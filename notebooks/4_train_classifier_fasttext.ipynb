{
 "cells": [
  {
   "cell_type": "code",
   "execution_count": 1,
   "id": "c7e707bf-2c3a-4d82-b2a9-6c21adac23d6",
   "metadata": {},
   "outputs": [
    {
     "name": "stderr",
     "output_type": "stream",
     "text": [
      "2021-08-23 12:05:11.014230: I tensorflow/stream_executor/platform/default/dso_loader.cc:48] Successfully opened dynamic library libcudart.so.10.1\n",
      "Warning : loss is manually set to a specific value. It will not be automatically optimized.\n",
      "Progress: 100.0% Trials:  333 Best score:  0.986371 ETA:   0h 0m 0s\n",
      "Training again with best arguments\n",
      "Read 0M words\n",
      "Number of words:  23111\n",
      "Number of labels: 2\n",
      "Progress: 100.0% words/sec/thread: 1851336 lr:  0.000000 avg.loss:  0.010159 ETA:   0h 0m 0s\n"
     ]
    }
   ],
   "source": [
    "import sys\n",
    "import pandas as pd\n",
    "import os\n",
    "\n",
    "sys.path.append( \"/notebook/nas-trainings/arne/ML_components/ML_components/src/classifier_fasttext/\" )\n",
    "\n",
    "PATH=\"/notebook/nas-trainings/arne/ML_components/ML_components/DATA/CEFAT_mathilde_sara_krisztina/CEFAT_15_06/CEFAT/processed_training_data_adress_detection/\"\n",
    "\n",
    "from trainer_fasttext import TrainerFasttext\n",
    "\n",
    "trainer_fasttext=TrainerFasttext(  \"/notebook/nas-trainings/arne/ML_components/ML_components/MODELS/fasttext_models_C4C_adress_detection\" , classification_type=\"multi_class\" )\n",
    "trainer_fasttext.train(  os.path.join( PATH, \"adress_no_adress_FR_NL_EN.tsv\"  ),  index_first_relevant_column=3, \\\n",
    "                       epoch=5, lr=1.0 , wordNgrams=3, loss='softmax', cleaning=False, autotune=True)"
   ]
  },
  {
   "cell_type": "code",
   "execution_count": 46,
   "id": "085abdfe-566b-47d9-8471-862e291d0159",
   "metadata": {},
   "outputs": [],
   "source": [
    "test_texts=[ 'this is a test', 'this is an adress', 'test street 21', 'test street', 'street', '00 14 56', 'something@some.be' , 'x@t.de', '900000 dfdf' , 'tel 01 25 ', 'dit is een zin ', '050.25 21 58', '12 test street' ]\n",
    "preds_labels, preds_proba =trainer_fasttext.predict( test_texts )\n",
    "print( preds_labels )\n",
    "print( preds_proba )\n"
   ]
  },
  {
   "cell_type": "code",
   "execution_count": null,
   "id": "aa36296a-38dc-4101-a123-fb9240ec669b",
   "metadata": {},
   "outputs": [],
   "source": []
  },
  {
   "cell_type": "code",
   "execution_count": 47,
   "id": "aa833e0e-9391-4195-ad52-2ec2232f4f10",
   "metadata": {},
   "outputs": [
    {
     "data": {
      "text/plain": [
       "array([0, 0, 0, 0, 0, 0, 1, 0, 1, 0, 0, 0, 1])"
      ]
     },
     "execution_count": 47,
     "metadata": {},
     "output_type": "execute_result"
    }
   ],
   "source": [
    "preds_labels"
   ]
  },
  {
   "cell_type": "code",
   "execution_count": 15,
   "id": "9fe660ff-f8ae-4073-a776-487408264f77",
   "metadata": {},
   "outputs": [],
   "source": [
    "print( \"dfd\" )"
   ]
  },
  {
   "cell_type": "code",
   "execution_count": 16,
   "id": "776d0786-66dc-4a3c-9752-281d0d955d5d",
   "metadata": {},
   "outputs": [],
   "source": []
  },
  {
   "cell_type": "code",
   "execution_count": null,
   "id": "f89916b9-4f7d-42d4-8d05-24fccd93c3be",
   "metadata": {},
   "outputs": [],
   "source": []
  }
 ],
 "metadata": {
  "kernelspec": {
   "display_name": "Python 3 (ipykernel)",
   "language": "python",
   "name": "python3"
  },
  "language_info": {
   "codemirror_mode": {
    "name": "ipython",
    "version": 3
   },
   "file_extension": ".py",
   "mimetype": "text/x-python",
   "name": "python",
   "nbconvert_exporter": "python",
   "pygments_lexer": "ipython3",
   "version": "3.8.10"
  }
 },
 "nbformat": 4,
 "nbformat_minor": 5
}
