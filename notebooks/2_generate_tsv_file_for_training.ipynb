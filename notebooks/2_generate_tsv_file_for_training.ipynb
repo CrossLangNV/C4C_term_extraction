{
 "cells": [
  {
   "cell_type": "code",
   "execution_count": 1,
   "id": "21095cfe-edc8-49c4-bf73-04bcab688b68",
   "metadata": {},
   "outputs": [],
   "source": [
    "import glob\n",
    "import os\n",
    "import base64\n",
    "PATH=\"/notebook/nas-trainings/arne/ML_components/ML_components/DATA/CEFAT_mathilde_sara_krisztina/CEFAT_15_06/CEFAT/processed_training_data_adress_detection/\"\n",
    "files=glob.glob( os.path.join( PATH, \"*.txt\"  ) )\n",
    "\n",
    "with open( os.path.join( PATH, \"adress_no_adress_FR_NL_EN.tsv\" ), \"w\"  ) as f:\n",
    "\n",
    "    for file in files:\n",
    "\n",
    "        if 'train_set' in file:\n",
    "            continue\n",
    "\n",
    "        if 'no' in os.path.basename( file ).split( \".\" )[0]:\n",
    "            label=0\n",
    "        else:\n",
    "            label=1\n",
    "        orig_lang=os.path.basename( file ).split( \".\" )[1].split( \"_\" )[0]\n",
    "        target_lang=os.path.basename( file ).split( \".\" )[1].split( \"_\" )[1]\n",
    "        if orig_lang==target_lang:\n",
    "            translation=0\n",
    "        else:\n",
    "            translation=1\n",
    "        text=open( file ).read().strip( \"\\n\" ).split( \"\\n\" )\n",
    "        for sentence in text:\n",
    "            f.write( f\"{orig_lang}\\t\" ) #orig language\n",
    "            f.write( f\"{target_lang}\\t\" ) #target language\n",
    "            f.write( f\"{translation}\\t\" ) #translation 0=no, 1=yes\n",
    "            f.write( base64.b64encode( sentence.encode()  ).decode( 'utf-8'  )   ) #content\n",
    "            f.write( \"\\t\" )\n",
    "            f.write( f\"{label}\\n\" )"
   ]
  },
  {
   "cell_type": "markdown",
   "id": "5c099497-3dae-45f6-b935-7f96a6ce6f71",
   "metadata": {},
   "source": [
    "#### END"
   ]
  },
  {
   "cell_type": "code",
   "execution_count": 14,
   "id": "dcffecca-4755-42ce-9d62-6f61eea432f8",
   "metadata": {},
   "outputs": [],
   "source": [
    "PATH=\"/notebook/nas-trainings/arne/ML_components/ML_components/DATA/CEFAT_mathilde_sara_krisztina/CEFAT_15_06/CEFAT/processed_training_data_adress_detection/\"\n",
    "\n",
    "import pandas as pd\n",
    "import os\n",
    "column_names=[ 'orig_lang', 'trans_lang', 'translation', 'base64_text', \\\n",
    "'label' ]\n",
    "\n",
    "data=pd.read_csv(  os.path.join( PATH,\"adress_no_adress_FR_NL_EN.tsv\" ) , sep='\\t' , header=None, names=column_names )"
   ]
  },
  {
   "cell_type": "code",
   "execution_count": 54,
   "id": "ac8ce262-5124-43de-89fa-d81feaff90d3",
   "metadata": {},
   "outputs": [],
   "source": [
    "PATH=\"/notebook/nas-trainings/arne/ML_components/ML_components/DATA/CEFAT_mathilde_sara_krisztina/CEFAT_15_06/CEFAT/processed_training_data_adress_detection/\"\n",
    "\n",
    "\n",
    "data=pd.read_csv( os.path.join( PATH,\"adress_no_adress_FR_NL_EN.tsv\" ), sep='\\t' , header=None ) \n",
    "#data=data.dropna()\n",
    "\n",
    "#def decode( base64_encoded_string:str ) ->str:\n",
    "#    return  base64.b64decode(  base64_encoded_string ).decode( 'utf-8' )\n",
    "\n",
    "#data[3]=data[3].apply( decode )\n",
    "\n"
   ]
  },
  {
   "cell_type": "code",
   "execution_count": null,
   "id": "70254fcc-a97e-4e2c-babf-300d39f298ff",
   "metadata": {},
   "outputs": [],
   "source": []
  },
  {
   "cell_type": "code",
   "execution_count": 55,
   "id": "cdd2137e-b179-45fa-8348-694f91651fcc",
   "metadata": {},
   "outputs": [
    {
     "name": "stdout",
     "output_type": "stream",
     "text": [
      "nan\n",
      "5558\n",
      "nan\n",
      "7098\n"
     ]
    }
   ],
   "source": [
    "for i, item in enumerate(data[3].tolist()) :\n",
    "    if type( item )!=type( 'test' ):\n",
    "        print( item )\n",
    "        print( i )"
   ]
  },
  {
   "cell_type": "code",
   "execution_count": null,
   "id": "f9e23568-1fe4-4781-9187-e168e7b0d0ac",
   "metadata": {},
   "outputs": [],
   "source": []
  },
  {
   "cell_type": "code",
   "execution_count": null,
   "id": "a8b53239-ae65-4fee-a138-8429a43ce042",
   "metadata": {},
   "outputs": [],
   "source": []
  },
  {
   "cell_type": "code",
   "execution_count": null,
   "id": "ddf1065c-f397-4188-96cb-14936dc42468",
   "metadata": {},
   "outputs": [],
   "source": []
  },
  {
   "cell_type": "code",
   "execution_count": null,
   "id": "c6feafea-3bb6-44ea-9c11-1116106310af",
   "metadata": {},
   "outputs": [],
   "source": []
  },
  {
   "cell_type": "code",
   "execution_count": null,
   "id": "233a40df-afc0-4595-9d62-b42bc7c67097",
   "metadata": {},
   "outputs": [],
   "source": []
  }
 ],
 "metadata": {
  "kernelspec": {
   "display_name": "Python 3 (ipykernel)",
   "language": "python",
   "name": "python3"
  },
  "language_info": {
   "codemirror_mode": {
    "name": "ipython",
    "version": 3
   },
   "file_extension": ".py",
   "mimetype": "text/x-python",
   "name": "python",
   "nbconvert_exporter": "python",
   "pygments_lexer": "ipython3",
   "version": "3.8.10"
  }
 },
 "nbformat": 4,
 "nbformat_minor": 5
}
