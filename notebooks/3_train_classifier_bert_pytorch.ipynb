{
 "cells": [
  {
   "cell_type": "code",
   "execution_count": 1,
   "id": "afd4749b-418b-4a94-a154-243dca537ed7",
   "metadata": {},
   "outputs": [
    {
     "name": "stderr",
     "output_type": "stream",
     "text": [
      "2021-08-23 11:37:16.046677: I tensorflow/stream_executor/platform/default/dso_loader.cc:48] Successfully opened dynamic library libcudart.so.10.1\n"
     ]
    }
   ],
   "source": [
    "import sys\n",
    "sys.path.append( \"/notebook/nas-trainings/arne/ML_components/ML_components/src/classifier_bert_pytorch\" )\n",
    "from trainer_bert_sequence_classifier import TrainerBertSequenceClassifier\n",
    "from read_data import read_split, read_base64_multi_label_tsv, read_base64_multi_class_tsv"
   ]
  },
  {
   "cell_type": "code",
   "execution_count": 2,
   "id": "88ef0e29-1316-4318-9936-02c1216c0c1d",
   "metadata": {},
   "outputs": [],
   "source": [
    "import os\n",
    "PATH=\"/notebook/nas-trainings/arne/ML_components/ML_components/DATA/CEFAT_mathilde_sara_krisztina/CEFAT_15_06/CEFAT/processed_training_data_adress_detection/\"\n",
    "TRAIN_DIR=os.path.join( PATH, \"adress_no_adress_FR_NL_EN.tsv\"  )"
   ]
  },
  {
   "cell_type": "code",
   "execution_count": 3,
   "id": "81d04ed4-475d-4217-bfca-386906a67b40",
   "metadata": {},
   "outputs": [
    {
     "name": "stdout",
     "output_type": "stream",
     "text": [
      "Reading tsv file for multi-class classification /notebook/nas-trainings/arne/ML_components/ML_components/DATA/CEFAT_mathilde_sara_krisztina/CEFAT_15_06/CEFAT/processed_training_data_adress_detection/adress_no_adress_FR_NL_EN.tsv\n",
      "Dropped 2 rows.\n"
     ]
    },
    {
     "data": {
      "application/vnd.jupyter.widget-view+json": {
       "model_id": "4800979166fc44b99596b08621862833",
       "version_major": 2,
       "version_minor": 0
      },
      "text/plain": [
       "Downloading:   0%|          | 0.00/625 [00:00<?, ?B/s]"
      ]
     },
     "metadata": {},
     "output_type": "display_data"
    },
    {
     "data": {
      "application/vnd.jupyter.widget-view+json": {
       "model_id": "3acd1987d1744b5baae1c188057fb9d6",
       "version_major": 2,
       "version_minor": 0
      },
      "text/plain": [
       "Downloading:   0%|          | 0.00/672M [00:00<?, ?B/s]"
      ]
     },
     "metadata": {},
     "output_type": "display_data"
    },
    {
     "name": "stderr",
     "output_type": "stream",
     "text": [
      "Some weights of the model checkpoint at bert-base-multilingual-uncased were not used when initializing BertForSequenceClassification: ['cls.predictions.bias', 'cls.predictions.transform.dense.weight', 'cls.predictions.transform.dense.bias', 'cls.predictions.decoder.weight', 'cls.seq_relationship.weight', 'cls.seq_relationship.bias', 'cls.predictions.transform.LayerNorm.weight', 'cls.predictions.transform.LayerNorm.bias']\n",
      "- This IS expected if you are initializing BertForSequenceClassification from the checkpoint of a model trained on another task or with another architecture (e.g. initializing a BertForSequenceClassification model from a BertForPretraining model).\n",
      "- This IS NOT expected if you are initializing BertForSequenceClassification from the checkpoint of a model that you expect to be exactly identical (initializing a BertForSequenceClassification model from a BertForSequenceClassification model).\n",
      "Some weights of BertForSequenceClassification were not initialized from the model checkpoint at bert-base-multilingual-uncased and are newly initialized: ['classifier.weight', 'classifier.bias']\n",
      "You should probably TRAIN this model on a down-stream task to be able to use it for predictions and inference.\n"
     ]
    },
    {
     "data": {
      "application/vnd.jupyter.widget-view+json": {
       "model_id": "4b79d9d0bc2a42ea8f78c68d2cfdacf0",
       "version_major": 2,
       "version_minor": 0
      },
      "text/plain": [
       "Downloading:   0%|          | 0.00/872k [00:00<?, ?B/s]"
      ]
     },
     "metadata": {},
     "output_type": "display_data"
    },
    {
     "data": {
      "application/vnd.jupyter.widget-view+json": {
       "model_id": "d61ca719610847b29119a4468b5eb96f",
       "version_major": 2,
       "version_minor": 0
      },
      "text/plain": [
       "Downloading:   0%|          | 0.00/1.72M [00:00<?, ?B/s]"
      ]
     },
     "metadata": {},
     "output_type": "display_data"
    },
    {
     "name": "stderr",
     "output_type": "stream",
     "text": [
      "Epoch: 100% 5/5 [14:15<00:00, 171.15s/it]\n"
     ]
    }
   ],
   "source": [
    "from trainer_bert_sequence_classifier import TrainerBertSequenceClassifier\n",
    "from read_data import read_split, read_base64_multi_label_tsv\n",
    "\n",
    "trainer_bert_sequence_classifier=TrainerBertSequenceClassifier( pretrained_model_name_or_path='bert-base-multilingual-uncased',  model_type='BERT', classification_type='multi_class' )\n",
    "trainer_bert_sequence_classifier.train(  \\\n",
    "path_data_dir=TRAIN_DIR , \\\n",
    "output_dir=\"/notebook/nas-trainings/arne/ML_components/ML_components/MODELS/model_MULTI_BERT_unfreeze_last_layers_5epoch_C4C_adresses\",\\\n",
    "epochs=5, \\\n",
    "index_first_relevant_column=3, \\\n",
    "class_weighting=False, \\\n",
    "weighted_sampling=False, \\\n",
    "freeze_bert=True, \\\n",
    "cleaning=False, \\\n",
    "gpu=0)"
   ]
  },
  {
   "cell_type": "code",
   "execution_count": 72,
   "id": "218d4741-6d1b-4f28-8e35-0d1132384d4f",
   "metadata": {},
   "outputs": [],
   "source": [
    "test_texts=[ 'this is a test', 'this is an adress', 'test street',  'test street 21', 'test street', 'street', '00 14 56', 'something@some.be' , 'x@t.de', '900000 dfdf' , 'tel 01 25 ', 'dit is een zin ' ]"
   ]
  },
  {
   "cell_type": "code",
   "execution_count": 73,
   "id": "b07411a1-45c6-4bba-886b-07e8710f63a4",
   "metadata": {},
   "outputs": [
    {
     "name": "stdout",
     "output_type": "stream",
     "text": [
      "[[9.98942316e-01 1.05764263e-03]\n",
      " [9.86547351e-01 1.34527246e-02]\n",
      " [1.96109325e-01 8.03890646e-01]\n",
      " [1.02743146e-03 9.98972535e-01]\n",
      " [1.96109325e-01 8.03890646e-01]\n",
      " [9.59623158e-01 4.03769128e-02]\n",
      " [5.54384384e-03 9.94456232e-01]\n",
      " [3.92967137e-03 9.96070266e-01]\n",
      " [6.58910070e-03 9.93410885e-01]\n",
      " [1.61258760e-03 9.98387456e-01]\n",
      " [1.61194068e-04 9.99838829e-01]\n",
      " [9.99368489e-01 6.31551316e-04]]\n",
      "[0 0 1 1 1 0 1 1 1 1 1 0]\n"
     ]
    }
   ],
   "source": [
    "preds_labels, preds_proba=trainer_bert_sequence_classifier.predict(  test_texts )\n",
    "print(preds_proba)\n",
    "print( preds_labels )"
   ]
  },
  {
   "cell_type": "markdown",
   "id": "21d50b88-c479-480a-a691-594ed55d4d37",
   "metadata": {},
   "source": [
    "#### Train with DISTILBERT:"
   ]
  },
  {
   "cell_type": "code",
   "execution_count": 1,
   "id": "9e4618b3-1eaa-451d-9067-53bb950c3c8d",
   "metadata": {},
   "outputs": [
    {
     "name": "stderr",
     "output_type": "stream",
     "text": [
      "2021-08-23 13:54:33.473554: I tensorflow/stream_executor/platform/default/dso_loader.cc:48] Successfully opened dynamic library libcudart.so.10.1\n"
     ]
    },
    {
     "name": "stdout",
     "output_type": "stream",
     "text": [
      "Reading tsv file for multi-class classification /notebook/nas-trainings/arne/ML_components/ML_components/DATA/CEFAT_mathilde_sara_krisztina/CEFAT_15_06/CEFAT/processed_training_data_adress_detection/adress_no_adress_FR_NL_EN.tsv\n",
      "Dropped 2 rows because they contained NaN's.\n"
     ]
    },
    {
     "name": "stderr",
     "output_type": "stream",
     "text": [
      "Some weights of the model checkpoint at distilbert-base-multilingual-cased were not used when initializing DistilBertForSequenceClassification: ['vocab_transform.weight', 'vocab_transform.bias', 'vocab_layer_norm.weight', 'vocab_layer_norm.bias', 'vocab_projector.weight', 'vocab_projector.bias']\n",
      "- This IS expected if you are initializing DistilBertForSequenceClassification from the checkpoint of a model trained on another task or with another architecture (e.g. initializing a BertForSequenceClassification model from a BertForPretraining model).\n",
      "- This IS NOT expected if you are initializing DistilBertForSequenceClassification from the checkpoint of a model that you expect to be exactly identical (initializing a BertForSequenceClassification model from a BertForSequenceClassification model).\n",
      "Some weights of DistilBertForSequenceClassification were not initialized from the model checkpoint at distilbert-base-multilingual-cased and are newly initialized: ['pre_classifier.weight', 'pre_classifier.bias', 'classifier.weight', 'classifier.bias']\n",
      "You should probably TRAIN this model on a down-stream task to be able to use it for predictions and inference.\n",
      "Epoch: 100% 5/5 [16:34<00:00, 198.98s/it]\n"
     ]
    }
   ],
   "source": [
    "import sys\n",
    "sys.path.append( \"/notebook/nas-trainings/arne/ML_components/ML_components/src/classifier_bert_pytorch\" )\n",
    "from trainer_bert_sequence_classifier import TrainerBertSequenceClassifier\n",
    "from read_data import read_split, read_base64_multi_label_tsv, read_base64_multi_class_tsv\n",
    "\n",
    "import os\n",
    "PATH=\"/notebook/nas-trainings/arne/ML_components/ML_components/DATA/CEFAT_mathilde_sara_krisztina/CEFAT_15_06/CEFAT/processed_training_data_adress_detection/\"\n",
    "TRAIN_DIR=os.path.join( PATH, \"adress_no_adress_FR_NL_EN.tsv\"  )\n",
    "\n",
    "from trainer_bert_sequence_classifier import TrainerBertSequenceClassifier\n",
    "from read_data import read_split, read_base64_multi_label_tsv\n",
    "\n",
    "trainer_bert_sequence_classifier=TrainerBertSequenceClassifier( pretrained_model_name_or_path='distilbert-base-multilingual-cased',  model_type='DISTILBERT', classification_type='multi_class' )\n",
    "trainer_bert_sequence_classifier.train(  \\\n",
    "path_data_dir=TRAIN_DIR , \\\n",
    "output_dir=\"/notebook/nas-trainings/arne/ML_components/ML_components/MODELS/model_MULTI_DISTILBERT_unfreeze_last_layers_5epoch_C4C_adresses\",\\\n",
    "epochs=5, \\\n",
    "index_first_relevant_column=3, \\\n",
    "class_weighting=False, \\\n",
    "weighted_sampling=False, \\\n",
    "freeze_bert=True, \\\n",
    "cleaning=False, \\\n",
    "gpu=0)"
   ]
  },
  {
   "cell_type": "code",
   "execution_count": 3,
   "id": "9309b88d-7c57-4188-9e31-8e446fcad26e",
   "metadata": {},
   "outputs": [],
   "source": [
    "test_texts=[ 'this is a test', 'this is an adress', 'test street',  'test street 21', 'test street', 'street', '00 14 56', 'something@some.be' , 'x@t.de', '900000 dfdf' , 'tel 01 25 ', 'dit is een zin ' ]"
   ]
  },
  {
   "cell_type": "code",
   "execution_count": 4,
   "id": "a849ff6f-5ad5-41f9-968d-78c173d3a4a5",
   "metadata": {},
   "outputs": [
    {
     "name": "stdout",
     "output_type": "stream",
     "text": [
      "[[9.99955416e-01 4.45662627e-05]\n",
      " [9.99955058e-01 4.49001091e-05]\n",
      " [9.99959230e-01 4.07382176e-05]\n",
      " [1.91606127e-03 9.98083949e-01]\n",
      " [9.99959230e-01 4.07382176e-05]\n",
      " [9.99948978e-01 5.10066784e-05]\n",
      " [9.93796706e-01 6.20333478e-03]\n",
      " [3.15753423e-04 9.99684215e-01]\n",
      " [3.95146461e-04 9.99604881e-01]\n",
      " [3.13027675e-04 9.99686956e-01]\n",
      " [3.13729484e-04 9.99686241e-01]\n",
      " [9.99957204e-01 4.28093153e-05]]\n",
      "[0 0 0 1 0 0 0 1 1 1 1 0]\n"
     ]
    }
   ],
   "source": [
    "preds_labels, preds_proba=trainer_bert_sequence_classifier.predict(  test_texts )\n",
    "print(preds_proba)\n",
    "print( preds_labels )"
   ]
  },
  {
   "cell_type": "code",
   "execution_count": 5,
   "id": "b151aeca-d8fd-42e4-b348-9a1911baec71",
   "metadata": {},
   "outputs": [
    {
     "name": "stdout",
     "output_type": "stream",
     "text": [
      "[[2.56660191e-04 9.99743283e-01]]\n",
      "[1]\n"
     ]
    }
   ],
   "source": [
    "test_texts=[ 'Feb Hasselt     Test     9000' ]\n",
    "preds_labels, preds_proba=trainer_bert_sequence_classifier.predict(  test_texts )\n",
    "print(preds_proba)\n",
    "print( preds_labels )"
   ]
  },
  {
   "cell_type": "code",
   "execution_count": null,
   "id": "2e1c1d55-f1be-48b9-bf8e-c4d947857836",
   "metadata": {},
   "outputs": [],
   "source": []
  },
  {
   "cell_type": "code",
   "execution_count": 6,
   "id": "e4f2de23-f27f-4ab5-9758-acd6076901bb",
   "metadata": {},
   "outputs": [
    {
     "name": "stdout",
     "output_type": "stream",
     "text": [
      "[[9.98663068e-01 1.33688760e-03]\n",
      " [9.96615946e-01 3.38403741e-03]\n",
      " [9.98266935e-01 1.73298817e-03]\n",
      " [1.61019079e-02 9.83898103e-01]\n",
      " [9.98266935e-01 1.73298817e-03]\n",
      " [9.79785264e-01 2.02147253e-02]\n",
      " [1.13276608e-01 8.86723399e-01]\n",
      " [1.75207213e-03 9.98247981e-01]\n",
      " [2.56412127e-03 9.97435868e-01]\n",
      " [5.16631961e-01 4.83368069e-01]\n",
      " [3.77837569e-04 9.99622107e-01]\n",
      " [9.99974608e-01 2.54372299e-05]]\n",
      "[0 0 0 1 0 0 1 1 1 0 1 0]\n"
     ]
    }
   ],
   "source": [
    "preds_labels, preds_proba=trainer_bert_sequence_classifier.predict(  test_texts )\n",
    "print(preds_proba)\n",
    "print( preds_labels )"
   ]
  },
  {
   "cell_type": "code",
   "execution_count": 21,
   "id": "3d9fe3f1-6439-443e-9756-3cf939e250f0",
   "metadata": {},
   "outputs": [
    {
     "name": "stdout",
     "output_type": "stream",
     "text": [
      "[[0.03327706 0.96672297]]\n",
      "[1]\n"
     ]
    }
   ],
   "source": [
    "test_texts=[ 'Feb Hasselt     Test     9000' ]\n",
    "preds_labels, preds_proba=trainer_bert_sequence_classifier.predict(  test_texts )\n",
    "print(preds_proba)\n",
    "print( preds_labels )"
   ]
  },
  {
   "cell_type": "code",
   "execution_count": null,
   "id": "c503dddf-2800-4ef3-82d0-f429e3d26116",
   "metadata": {},
   "outputs": [],
   "source": []
  },
  {
   "cell_type": "code",
   "execution_count": null,
   "id": "719801a0-d95a-4312-9e94-fc01516c0af2",
   "metadata": {},
   "outputs": [],
   "source": []
  },
  {
   "cell_type": "code",
   "execution_count": null,
   "id": "769fafd3-7a30-4272-bbf5-f2f7b7e20737",
   "metadata": {},
   "outputs": [],
   "source": []
  }
 ],
 "metadata": {
  "kernelspec": {
   "display_name": "Python 3 (ipykernel)",
   "language": "python",
   "name": "python3"
  },
  "language_info": {
   "codemirror_mode": {
    "name": "ipython",
    "version": 3
   },
   "file_extension": ".py",
   "mimetype": "text/x-python",
   "name": "python",
   "nbconvert_exporter": "python",
   "pygments_lexer": "ipython3",
   "version": "3.8.10"
  }
 },
 "nbformat": 4,
 "nbformat_minor": 5
}
