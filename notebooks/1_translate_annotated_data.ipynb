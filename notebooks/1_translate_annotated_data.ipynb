{
 "cells": [
  {
   "cell_type": "code",
   "execution_count": 1,
   "id": "e785aafe-8f2a-4734-b4d5-f640d1674950",
   "metadata": {},
   "outputs": [
    {
     "data": {
      "text/plain": [
       "{'etranslation_username': 'CEFAT4Cities_20200710',\n",
       " 'etranslation_password': '***',\n",
       " 'snippet_callback_url': 'https://etranslation.cefat4cities.crosslang.com/hook/snippet',\n",
       " 'document_callback_url': 'https://etranslation.cefat4cities.crosslang.com/hook/document'}"
      ]
     },
     "execution_count": 1,
     "metadata": {},
     "output_type": "execute_result"
    }
   ],
   "source": [
    "import sys\n",
    "import pandas as pd\n",
    "import os\n",
    "import base64\n",
    "import time\n",
    "from pandas.core.frame import DataFrame\n",
    "from typing import List\n",
    "\n",
    "sys.path.append( \"/notebook/nas-trainings/arne/ML_components/ML_components/src/CEF-eTranslation_connector/\" )\n",
    "from connector.translate_connector import ETranslationConnector\n",
    "from connector.translate_files_blocking import translate #, encode, decode\n",
    "\n",
    "etranslation_connector=ETranslationConnector( username= 'cefat4cities', password='Vc5PVsh5VFXQ'  )\n",
    "etranslation_connector.info()"
   ]
  },
  {
   "cell_type": "code",
   "execution_count": 24,
   "id": "55a374d4-846c-4d38-a5be-273dbb70d46c",
   "metadata": {},
   "outputs": [],
   "source": [
    "PATH=\"/notebook/nas-trainings/arne/ML_components/ML_components/DATA/CEFAT_mathilde_sara_krisztina/CEFAT_15_06/CEFAT/processed_training_data_adress_detection\"\n",
    "file='no_adress_tel_FR.txt'\n",
    "trans_text=etranslation_connector.trans_doc_blocking( 'fr',  'en' , os.path.join( PATH, file ) )\n"
   ]
  },
  {
   "cell_type": "code",
   "execution_count": 25,
   "id": "9b0b545b-0446-4d5a-bbd7-fb8607ce165c",
   "metadata": {},
   "outputs": [],
   "source": [
    "with open( os.path.join( PATH, 'no_adress_tel_FR.FR_EN.txt' ), 'w' ) as f:\n",
    "    f.write( trans_text[ 'content' ].decode( encoding='utf-8' ) )"
   ]
  },
  {
   "cell_type": "code",
   "execution_count": null,
   "id": "251fdd5e-724e-4469-ad1c-23fa5f252785",
   "metadata": {},
   "outputs": [],
   "source": []
  },
  {
   "cell_type": "code",
   "execution_count": null,
   "id": "4e2dd196-052a-40ef-a633-53207bda1174",
   "metadata": {},
   "outputs": [],
   "source": []
  },
  {
   "cell_type": "code",
   "execution_count": null,
   "id": "6ddddbff-9d66-416f-8cdf-3f40b3a3518f",
   "metadata": {},
   "outputs": [],
   "source": []
  }
 ],
 "metadata": {
  "kernelspec": {
   "display_name": "Python 3 (ipykernel)",
   "language": "python",
   "name": "python3"
  },
  "language_info": {
   "codemirror_mode": {
    "name": "ipython",
    "version": 3
   },
   "file_extension": ".py",
   "mimetype": "text/x-python",
   "name": "python",
   "nbconvert_exporter": "python",
   "pygments_lexer": "ipython3",
   "version": "3.8.2"
  }
 },
 "nbformat": 4,
 "nbformat_minor": 5
}
